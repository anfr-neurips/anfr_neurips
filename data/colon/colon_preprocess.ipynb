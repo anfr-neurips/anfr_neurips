{
 "cells": [
  {
   "cell_type": "code",
   "execution_count": 9,
   "metadata": {},
   "outputs": [],
   "source": [
    "from PIL import Image\n",
    "from PIL.TiffTags import TAGS\n",
    "import os\n",
    "import numpy as np\n",
    "\n",
    "def get_exif_data(image_path):\n",
    "    img = Image.open(image_path)\n",
    "    meta_dict = {TAGS[key] : img.tag[key] for key in img.tag.keys()}\n",
    "    return meta_dict"
   ]
  },
  {
   "cell_type": "code",
   "execution_count": 10,
   "metadata": {},
   "outputs": [],
   "source": [
    "img = np.array(Image.open(\"NCT-CRC-HE-100K-NONORM/ADI/ADI-AAAFLCLY.tif\"))"
   ]
  },
  {
   "cell_type": "code",
   "execution_count": 33,
   "metadata": {},
   "outputs": [
    {
     "name": "stderr",
     "output_type": "stream",
     "text": [
      "Processing DEB images: 100%|██████████| 11512/11512 [03:57<00:00, 48.48it/s]\n",
      "Processing MUC images: 100%|██████████| 8896/8896 [02:37<00:00, 56.51it/s]\n",
      "Processing ADI images: 100%|██████████| 10407/10407 [03:35<00:00, 48.30it/s]\n",
      "Processing LYM images: 100%|██████████| 11557/11557 [03:46<00:00, 51.03it/s]\n",
      "Processing TUM images: 100%|██████████| 14317/14317 [04:31<00:00, 52.82it/s]\n",
      "Processing NORM images: 100%|██████████| 8763/8763 [02:31<00:00, 57.95it/s]\n",
      "Processing MUS images: 100%|██████████| 13536/13536 [04:57<00:00, 45.47it/s]\n",
      "Processing STR images: 100%|██████████| 10446/10446 [03:17<00:00, 52.89it/s]\n",
      "Processing BACK images: 100%|██████████| 10566/10566 [03:50<00:00, 45.76it/s]\n"
     ]
    },
    {
     "name": "stdout",
     "output_type": "stream",
     "text": [
      "Images shape: (100000, 3, 224, 224)\n",
      "Labels shape: (100000, 9)\n"
     ]
    },
    {
     "name": "stderr",
     "output_type": "stream",
     "text": [
      "Processing DEB images: 100%|██████████| 339/339 [00:07<00:00, 47.04it/s]\n",
      "Processing MUC images: 100%|██████████| 1035/1035 [00:13<00:00, 77.19it/s] \n",
      "Processing ADI images: 100%|██████████| 1338/1338 [00:18<00:00, 72.40it/s] \n",
      "Processing LYM images: 100%|██████████| 634/634 [00:06<00:00, 95.70it/s] \n",
      "Processing TUM images: 100%|██████████| 1233/1233 [00:16<00:00, 72.65it/s] \n",
      "Processing NORM images: 100%|██████████| 741/741 [00:09<00:00, 79.96it/s] \n",
      "Processing MUS images: 100%|██████████| 592/592 [00:06<00:00, 86.17it/s] \n",
      "Processing STR images: 100%|██████████| 421/421 [00:04<00:00, 99.37it/s] \n",
      "Processing BACK images: 100%|██████████| 847/847 [00:10<00:00, 79.94it/s] \n"
     ]
    },
    {
     "name": "stdout",
     "output_type": "stream",
     "text": [
      "Images shape: (7180, 3, 224, 224)\n",
      "Labels shape: (7180, 9)\n"
     ]
    }
   ],
   "source": [
    "import os\n",
    "import numpy as np\n",
    "from PIL import Image\n",
    "from tqdm import tqdm\n",
    "\n",
    "# Define the parent folder path\n",
    "parent_folder_train = \"NCT-CRC-HE-100K\"\n",
    "parent_folder_val = \"CRC-VAL-HE-7K\"\n",
    "\n",
    "# Get the list of subfolders in the parent folder\n",
    "subfolders_train = [f.path for f in os.scandir(parent_folder_train) if f.is_dir()]\n",
    "subfolders_val = [f.path for f in os.scandir(parent_folder_val) if f.is_dir()]\n",
    "\n",
    "# Initialize empty lists for images and labels\n",
    "images_train = []\n",
    "labels_train = []\n",
    "images_val = []\n",
    "labels_val = []\n",
    "image_array = {}\n",
    "label_array = {}\n",
    "\n",
    "label_mapping = {\n",
    "    \"ADI\": [0.0, 0.0, 0.0, 0.0, 0.0, 0.0, 0.0, 0.0, 1.0],\n",
    "    \"BACK\": [0.0, 0.0, 0.0, 0.0, 0.0, 0.0, 0.0, 1.0, 0.0],\n",
    "    \"DEB\": [0.0, 0.0, 0.0, 0.0, 0.0, 0.0, 1.0, 0.0, 0.0],\n",
    "    \"LYM\": [0.0, 0.0, 0.0, 0.0, 0.0, 1.0, 0.0, 0.0, 0.0],\n",
    "    \"MUC\": [0.0, 0.0, 0.0, 0.0, 1.0, 0.0, 0.0, 0.0, 0.0],\n",
    "    \"MUS\": [0.0, 0.0, 0.0, 1.0, 0.0, 0.0, 0.0, 0.0, 0.0],\n",
    "    \"NORM\": [0.0, 0.0, 1.0, 0.0, 0.0, 0.0, 0.0, 0.0, 0.0],\n",
    "    \"STR\": [0.0, 1.0, 0.0, 0.0, 0.0, 0.0, 0.0, 0.0, 0.0],\n",
    "    \"TUM\": [1.0, 0.0, 0.0, 0.0, 0.0, 0.0, 0.0, 0.0, 0.0]\n",
    "}\n",
    "\n",
    "for part in [\"train\", \"val\"]:\n",
    "    # Loop through each subfolder\n",
    "    for i, subfolder in enumerate(eval(f'subfolders_{part}')):\n",
    "        # Get the class label from the subfolder name\n",
    "        class_label = os.path.basename(subfolder)\n",
    "        \n",
    "        # Get the list of image files in the subfolder\n",
    "        image_files = [f.path for f in os.scandir(subfolder) if f.is_file() and f.name.endswith(\".tif\")]\n",
    "        \n",
    "        # Loop through each image file\n",
    "        for image_file in tqdm(image_files, desc=f\"Processing {class_label} images\"):\n",
    "            # Load the image and convert it to numpy array\n",
    "            image = np.array(Image.open(image_file))\n",
    "            image = np.transpose(image, (2, 0, 1))\n",
    "            # Append the image and label to the respective lists\n",
    "            eval(f\"images_{part}\").append(image)\n",
    "            eval(f\"labels_{part}\").append(np.array(label_mapping[class_label]))\n",
    "\n",
    "\n",
    "    # Convert the images and labels to numpy arrays\n",
    "    image_array[part] = np.array(eval(f\"images_{part}\"))\n",
    "    label_array[part] = np.array(eval(f\"labels_{part}\"))\n",
    "\n",
    "    # Print the shape of the images and labels arrays\n",
    "    print(\"Images shape:\", image_array[part].shape)\n",
    "    print(\"Labels shape:\", label_array[part].shape)\n",
    "\n",
    "# save the numpy arrays to a single npz file\n",
    "np.savez(\n",
    "    \"nct_wsi_100k_norm.npz\", \n",
    "    train_images=image_array[\"train\"],\n",
    "    train_labels=label_array[\"train\"],\n",
    "    val_images=image_array[\"val\"],\n",
    "    val_labels=label_array[\"val\"]\n",
    ")"
   ]
  },
  {
   "cell_type": "code",
   "execution_count": 31,
   "metadata": {},
   "outputs": [
    {
     "data": {
      "text/plain": [
       "'BACK'"
      ]
     },
     "execution_count": 31,
     "metadata": {},
     "output_type": "execute_result"
    }
   ],
   "source": [
    "labels[99990]"
   ]
  }
 ],
 "metadata": {
  "kernelspec": {
   "display_name": "flare",
   "language": "python",
   "name": "python3"
  },
  "language_info": {
   "codemirror_mode": {
    "name": "ipython",
    "version": 3
   },
   "file_extension": ".py",
   "mimetype": "text/x-python",
   "name": "python",
   "nbconvert_exporter": "python",
   "pygments_lexer": "ipython3",
   "version": "3.8.18"
  }
 },
 "nbformat": 4,
 "nbformat_minor": 2
}
