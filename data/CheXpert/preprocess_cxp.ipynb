{
 "cells": [
  {
   "cell_type": "code",
   "execution_count": 1,
   "metadata": {},
   "outputs": [],
   "source": [
    "import pandas as pd\n",
    "df_old = pd.read_csv('train.csv')\n",
    "to_drop = ['Sex', 'Age', 'Support Devices']\n",
    "df_old = df_old.drop(columns=to_drop)\n",
    "# remove Lateral rows\n",
    "df_old = df_old[df_old['Frontal/Lateral'] != 'Lateral']\n",
    "df_old.drop(columns=['Frontal/Lateral'], inplace=True)\n",
    "# replace nan with 0 like chexpert paper\n",
    "df_old.fillna(0.0, inplace=True)\n",
    "# replace uncertain with 0.0\n",
    "df_old.replace(-1.0, 0.0, inplace=True)\n",
    "df_old.rename(columns={\"Pleural Effusion\":\"Effusion\"}, inplace=True)"
   ]
  },
  {
   "cell_type": "code",
   "execution_count": 2,
   "metadata": {},
   "outputs": [
    {
     "name": "stdout",
     "output_type": "stream",
     "text": [
      "Dropped 39665 rows from the training dataset. 151362 rows remaining.\n"
     ]
    },
    {
     "name": "stderr",
     "output_type": "stream",
     "text": [
      "/tmp/ipykernel_219998/3023426774.py:19: SettingWithCopyWarning: \n",
      "A value is trying to be set on a copy of a slice from a DataFrame\n",
      "\n",
      "See the caveats in the documentation: https://pandas.pydata.org/pandas-docs/stable/user_guide/indexing.html#returning-a-view-versus-a-copy\n",
      "  df_old_2.drop(columns=uncommon_diseases, inplace=True)\n"
     ]
    }
   ],
   "source": [
    "common_diseases = [\n",
    "    \"Atelectasis\",\n",
    "    \"Cardiomegaly\",\n",
    "    \"Consolidation\",\n",
    "    \"Edema\",\n",
    "    \"Effusion\",\n",
    "    \"No Finding\",\n",
    "    \"Pneumonia\",\n",
    "    \"Pneumothorax\"\n",
    "]\n",
    "uncommon_diseases = ['Lung Opacity', 'Lung Lesion', 'Enlarged Cardiomediastinum', 'Pleural Other', 'Fracture']\n",
    "# go through the dataframe and drop rows where there are no 1s for any common diseases \n",
    "df_old_2 = df_old.loc[(df_old[common_diseases] != 0.0).any(axis=1)]\n",
    "cnt = df_old.shape[0] - df_old_2.shape[0]\n",
    "print(f\"Dropped {cnt} rows from the training dataset. {len(df_old_2)} rows remaining.\")\n",
    "# verify all rows have at least one 1 for common diseases\n",
    "assert (df_old_2[common_diseases] != 0.0).any(axis=1).all()\n",
    "# drop uncommon diseases\n",
    "df_old_2.drop(columns=uncommon_diseases, inplace=True)"
   ]
  },
  {
   "cell_type": "code",
   "execution_count": 3,
   "metadata": {},
   "outputs": [],
   "source": [
    "diseases = ['Atelectasis', 'Cardiomegaly', 'Consolidation', 'Edema', 'Effusion', 'Pneumonia', 'Pneumothorax']\n",
    "assert (df_old_2[(df_old_2[diseases] == 0).all(axis=1)][\"No Finding\"] == 1).all()"
   ]
  },
  {
   "cell_type": "code",
   "execution_count": 4,
   "metadata": {},
   "outputs": [
    {
     "name": "stderr",
     "output_type": "stream",
     "text": [
      "/tmp/ipykernel_219998/2084234516.py:2: SettingWithCopyWarning: \n",
      "A value is trying to be set on a copy of a slice from a DataFrame.\n",
      "Try using .loc[row_indexer,col_indexer] = value instead\n",
      "\n",
      "See the caveats in the documentation: https://pandas.pydata.org/pandas-docs/stable/user_guide/indexing.html#returning-a-view-versus-a-copy\n",
      "  df_old_2['Patient ID'] = df_old_2['Path'].str.extract(r'patient(\\d+)')\n"
     ]
    }
   ],
   "source": [
    "# extract the patient id from the path column\n",
    "df_old_2['Patient ID'] = df_old_2['Path'].str.extract(r'patient(\\d+)')\n",
    "\n",
    "cols = ['Path', 'Patient ID', 'AP/PA'] + common_diseases\n",
    "df_old_2 = df_old_2[cols]"
   ]
  },
  {
   "cell_type": "code",
   "execution_count": null,
   "metadata": {},
   "outputs": [],
   "source": [
    "df_old_2.head(10)"
   ]
  },
  {
   "cell_type": "code",
   "execution_count": 6,
   "metadata": {},
   "outputs": [
    {
     "name": "stdout",
     "output_type": "stream",
     "text": [
      "Dropped 45567 duplicates. 105795 rows remaining in the training dataset.\n"
     ]
    }
   ],
   "source": [
    "# find duplicate rows, which are those where the Patientid, the projection and the labels are the same\n",
    "# mark the last duplicates and remove them\n",
    "cnt_before = len(df_old_2)\n",
    "# # print a few duplicates to confirm\n",
    "# df_old_2[df_old_2.duplicated(subset=[\"Patient ID\", \"AP/PA\"]+common_diseases, keep=False)].head()\n",
    "df_old_2.drop_duplicates(subset=[\"Patient ID\", \"AP/PA\"]+common_diseases, keep=\"first\", inplace=True)\n",
    "# count the duplicates\n",
    "print(f\"Dropped {cnt_before - len(df_old_2)} duplicates. {len(df_old_2)} rows remaining in the training dataset.\")"
   ]
  },
  {
   "cell_type": "code",
   "execution_count": 7,
   "metadata": {},
   "outputs": [
    {
     "data": {
      "text/plain": [
       "<Axes: title={'center': 'Label distribution CXP'}>"
      ]
     },
     "execution_count": 7,
     "metadata": {},
     "output_type": "execute_result"
    },
    {
     "data": {
      "image/png": "[encoded data removed]",
      "text/plain": [
       "<Figure size 640x480 with 1 Axes>"
      ]
     },
     "metadata": {},
     "output_type": "display_data"
    }
   ],
   "source": [
    "# label distribution\n",
    "label_distribution = df_old_2[common_diseases].sum()\n",
    "# plot as a horizontal bar chart, sorted\n",
    "label_distribution.sort_values().plot(kind=\"barh\", title=\"Label distribution CXP\")"
   ]
  },
  {
   "cell_type": "code",
   "execution_count": null,
   "metadata": {},
   "outputs": [],
   "source": [
    "# replace / with _ in Path, discard the first part of the path and keep only the filename\n",
    "df_old_2['Path'] = df_old_2['Path'].str.replace(\"/\", \"_\")\n",
    "df_old_2['Path'] = df_old_2['Path'].str.split(\"_\").str[2:]\n",
    "df_old_2['Path'] = df_old_2['Path'].str.join(\"_\")\n",
    "df_old_2.head()"
   ]
  },
  {
   "cell_type": "code",
   "execution_count": 40,
   "metadata": {},
   "outputs": [],
   "source": [
    "# save the dataframe to a new csv file \n",
    "df_old_2.to_csv(\"cxp_processed.csv\", index=False)"
   ]
  },
  {
   "cell_type": "code",
   "execution_count": 54,
   "metadata": {},
   "outputs": [
    {
     "name": "stderr",
     "output_type": "stream",
     "text": [
      "100%|██████████| 105795/105795 [4:04:41<00:00,  7.21it/s]  \n"
     ]
    }
   ],
   "source": [
    "# Now let's preprocess the images to 224x224 and CLAHE and save them to a new folder\n",
    "import cv2\n",
    "import os\n",
    "from tqdm import tqdm\n",
    "\n",
    "# create a new folder to save the images\n",
    "if not os.path.exists(\"images_224\"):\n",
    "    os.makedirs(\"images_224\")\n",
    "\n",
    "# iterate through the rows of the dataframe\n",
    "df_pre = pd.read_csv(\"cxp_processed.csv\")\n",
    "for index, row in tqdm(df_pre.iterrows(), total=len(df_pre)):\n",
    "    # get the image id\n",
    "    image_id = row[\"Path\"]\n",
    "    # add CheXpert directory to the path, replace _ with /, except the last _\n",
    "    image_id_old = \"CheXpert-v1.0/train/\" + image_id.replace(\"_\", \"/\", image_id.count(\"_\")-1)\n",
    "    # read the image\n",
    "    img = cv2.imread(f\"../{image_id_old}\", cv2.IMREAD_GRAYSCALE)\n",
    "    # crop 5% of the image from all sides to remove blown borders and artifacts\n",
    "    img = img[int(img.shape[0]*0.05):int(img.shape[0]*0.95), int(img.shape[1]*0.05):int(img.shape[1]*0.95)]\n",
    "    # resize the image to 224x224\n",
    "    img = cv2.resize(img, (224, 224))\n",
    "    # # apply CLAHE\n",
    "    clahe = cv2.createCLAHE(clipLimit=1.0, tileGridSize=(8,8))\n",
    "    img = clahe.apply(img)\n",
    "    # apply histogram equalization\n",
    "    # img = cv2.equalizeHist(img)\n",
    "    # save the image\n",
    "    # make the necessary directories\n",
    "    cv2.imwrite(f\"images_224/{image_id}\", img)"
   ]
  },
  {
   "cell_type": "code",
   "execution_count": 10,
   "metadata": {},
   "outputs": [],
   "source": [
    "# keep 10k images for testing\n",
    "# find the number of unique patients\n",
    "patients = df_pre['Patient ID'].unique()\n",
    "# shuffle the patients\n",
    "import numpy as np\n",
    "np.random.seed(44)\n",
    "np.random.shuffle(patients)\n",
    "# check how many images the last 8k patients have\n",
    "len(df_pre[df_pre['Patient ID'].isin(patients[:7356])])\n",
    "\n",
    "# save the first 7356 patients to as the test set\n",
    "df_test = df_pre[df_pre['Patient ID'].isin(patients[:7356])]\n",
    "df_train_val = df_pre[~df_pre['Patient ID'].isin(patients[:7356])]\n",
    "# save the test file\n",
    "# df_test.to_csv(\"cxp_test.csv\", index=False)\n"
   ]
  },
  {
   "cell_type": "code",
   "execution_count": 11,
   "metadata": {},
   "outputs": [
    {
     "data": {
      "text/plain": [
       "(90795, 15000)"
      ]
     },
     "execution_count": 11,
     "metadata": {},
     "output_type": "execute_result"
    }
   ],
   "source": [
    "len(df_train_val), len(df_test)"
   ]
  },
  {
   "cell_type": "code",
   "execution_count": 12,
   "metadata": {},
   "outputs": [
    {
     "data": {
      "text/plain": [
       "<Axes: title={'center': 'Label distribution CXP'}>"
      ]
     },
     "execution_count": 12,
     "metadata": {},
     "output_type": "execute_result"
    },
    {
     "data": {
      "image/png": "[encoded data removed]",
      "text/plain": [
       "<Figure size 640x480 with 1 Axes>"
      ]
     },
     "metadata": {},
     "output_type": "display_data"
    }
   ],
   "source": [
    "# plot the label distribution for the training and validation set\n",
    "label_distribution = df_train_val[common_diseases].sum()\n",
    "# plot as a horizontal bar chart, sorted\n",
    "label_distribution.sort_values().plot(kind=\"barh\", title=\"Label distribution CXP\")\n"
   ]
  },
  {
   "cell_type": "code",
   "execution_count": 80,
   "metadata": {},
   "outputs": [
    {
     "data": {
      "text/html": [
       "<div>\n",
       "<style scoped>\n",
       "    .dataframe tbody tr th:only-of-type {\n",
       "        vertical-align: middle;\n",
       "    }\n",
       "\n",
       "    .dataframe tbody tr th {\n",
       "        vertical-align: top;\n",
       "    }\n",
       "\n",
       "    .dataframe thead th {\n",
       "        text-align: right;\n",
       "    }\n",
       "</style>\n",
       "<table border=\"1\" class=\"dataframe\">\n",
       "  <thead>\n",
       "    <tr style=\"text-align: right;\">\n",
       "      <th></th>\n",
       "      <th>Atelectasis</th>\n",
       "      <th>Cardiomegaly</th>\n",
       "      <th>Consolidation</th>\n",
       "      <th>Edema</th>\n",
       "      <th>Effusion</th>\n",
       "      <th>No Finding</th>\n",
       "      <th>Pneumonia</th>\n",
       "      <th>Pneumothorax</th>\n",
       "    </tr>\n",
       "  </thead>\n",
       "  <tbody>\n",
       "    <tr>\n",
       "      <th>Atelectasis</th>\n",
       "      <td>20726.0</td>\n",
       "      <td>2561.0</td>\n",
       "      <td>1430.0</td>\n",
       "      <td>5743.0</td>\n",
       "      <td>9678.0</td>\n",
       "      <td>0.0</td>\n",
       "      <td>413.0</td>\n",
       "      <td>1907.0</td>\n",
       "    </tr>\n",
       "    <tr>\n",
       "      <th>Cardiomegaly</th>\n",
       "      <td>2561.0</td>\n",
       "      <td>15237.0</td>\n",
       "      <td>979.0</td>\n",
       "      <td>6471.0</td>\n",
       "      <td>6663.0</td>\n",
       "      <td>0.0</td>\n",
       "      <td>319.0</td>\n",
       "      <td>518.0</td>\n",
       "    </tr>\n",
       "    <tr>\n",
       "      <th>Consolidation</th>\n",
       "      <td>1430.0</td>\n",
       "      <td>979.0</td>\n",
       "      <td>9185.0</td>\n",
       "      <td>2160.0</td>\n",
       "      <td>4648.0</td>\n",
       "      <td>0.0</td>\n",
       "      <td>618.0</td>\n",
       "      <td>465.0</td>\n",
       "    </tr>\n",
       "    <tr>\n",
       "      <th>Edema</th>\n",
       "      <td>5743.0</td>\n",
       "      <td>6471.0</td>\n",
       "      <td>2160.0</td>\n",
       "      <td>28392.0</td>\n",
       "      <td>13783.0</td>\n",
       "      <td>0.0</td>\n",
       "      <td>845.0</td>\n",
       "      <td>1001.0</td>\n",
       "    </tr>\n",
       "    <tr>\n",
       "      <th>Effusion</th>\n",
       "      <td>9678.0</td>\n",
       "      <td>6663.0</td>\n",
       "      <td>4648.0</td>\n",
       "      <td>13783.0</td>\n",
       "      <td>42239.0</td>\n",
       "      <td>0.0</td>\n",
       "      <td>1113.0</td>\n",
       "      <td>3502.0</td>\n",
       "    </tr>\n",
       "    <tr>\n",
       "      <th>No Finding</th>\n",
       "      <td>0.0</td>\n",
       "      <td>0.0</td>\n",
       "      <td>0.0</td>\n",
       "      <td>0.0</td>\n",
       "      <td>0.0</td>\n",
       "      <td>12409.0</td>\n",
       "      <td>0.0</td>\n",
       "      <td>0.0</td>\n",
       "    </tr>\n",
       "    <tr>\n",
       "      <th>Pneumonia</th>\n",
       "      <td>413.0</td>\n",
       "      <td>319.0</td>\n",
       "      <td>618.0</td>\n",
       "      <td>845.0</td>\n",
       "      <td>1113.0</td>\n",
       "      <td>0.0</td>\n",
       "      <td>3704.0</td>\n",
       "      <td>103.0</td>\n",
       "    </tr>\n",
       "    <tr>\n",
       "      <th>Pneumothorax</th>\n",
       "      <td>1907.0</td>\n",
       "      <td>518.0</td>\n",
       "      <td>465.0</td>\n",
       "      <td>1001.0</td>\n",
       "      <td>3502.0</td>\n",
       "      <td>0.0</td>\n",
       "      <td>103.0</td>\n",
       "      <td>9463.0</td>\n",
       "    </tr>\n",
       "  </tbody>\n",
       "</table>\n",
       "</div>"
      ],
      "text/plain": [
       "               Atelectasis  Cardiomegaly  Consolidation    Edema  Effusion  \\\n",
       "Atelectasis        20726.0        2561.0         1430.0   5743.0    9678.0   \n",
       "Cardiomegaly        2561.0       15237.0          979.0   6471.0    6663.0   \n",
       "Consolidation       1430.0         979.0         9185.0   2160.0    4648.0   \n",
       "Edema               5743.0        6471.0         2160.0  28392.0   13783.0   \n",
       "Effusion            9678.0        6663.0         4648.0  13783.0   42239.0   \n",
       "No Finding             0.0           0.0            0.0      0.0       0.0   \n",
       "Pneumonia            413.0         319.0          618.0    845.0    1113.0   \n",
       "Pneumothorax        1907.0         518.0          465.0   1001.0    3502.0   \n",
       "\n",
       "               No Finding  Pneumonia  Pneumothorax  \n",
       "Atelectasis           0.0      413.0        1907.0  \n",
       "Cardiomegaly          0.0      319.0         518.0  \n",
       "Consolidation         0.0      618.0         465.0  \n",
       "Edema                 0.0      845.0        1001.0  \n",
       "Effusion              0.0     1113.0        3502.0  \n",
       "No Finding        12409.0        0.0           0.0  \n",
       "Pneumonia             0.0     3704.0         103.0  \n",
       "Pneumothorax          0.0      103.0        9463.0  "
      ]
     },
     "execution_count": 80,
     "metadata": {},
     "output_type": "execute_result"
    }
   ],
   "source": [
    "# count the co-occurrences of the diseases\n",
    "co_occurrences = df_train_val[common_diseases].T.dot(df_train_val[common_diseases])\n",
    "co_occurrences"
   ]
  },
  {
   "cell_type": "code",
   "execution_count": 13,
   "metadata": {},
   "outputs": [],
   "source": [
    "df_original = pd.read_csv('train.csv', usecols=['Path', 'Age'])\n",
    "\n",
    "# process the path column to remove the first part of the path and keep only the filename\n",
    "df_original['Path'] = df_original['Path'].str.replace(\"CheXpert-v1.0/train/\", \"\").str.replace(\"/\", \"_\")\n",
    "# use the original dataframe to add the age column to the training and validation set\n",
    "df_train_val = df_train_val.merge(df_original, on=\"Path\")"
   ]
  },
  {
   "cell_type": "code",
   "execution_count": null,
   "metadata": {},
   "outputs": [],
   "source": [
    "# find basic statistics for the age column\n",
    "df_train_val['Age'].describe()"
   ]
  },
  {
   "cell_type": "code",
   "execution_count": 16,
   "metadata": {},
   "outputs": [],
   "source": [
    "# split the dataframe at the median age\n",
    "age_median = df_train_val['Age'].median()\n",
    "df_train_val_young = df_train_val[df_train_val['Age'] < age_median]\n",
    "df_train_val_old = df_train_val[df_train_val['Age'] >= age_median]\n",
    "# if there are common patients between the two sets\n",
    "# put all their rows in the traianing set\n",
    "common_patients = set(df_train_val_young['Patient ID']).intersection(set(df_train_val_old['Patient ID']))\n",
    "# move the rows of the common patients to the training set\n",
    "df_train_val_young = pd.concat([\n",
    "    df_train_val_young,\n",
    "    df_train_val_old[df_train_val_old['Patient ID'].isin(common_patients)]\n",
    "    ],\n",
    "    ignore_index=True\n",
    ")\n",
    "# remove the rows of the common patients from the old set\n",
    "df_train_val_old = df_train_val_old[~df_train_val_old['Patient ID'].isin(common_patients)]\n",
    "# check the number of common patients\n",
    "assert len(set(df_train_val_young['Patient ID']).intersection(set(df_train_val_old['Patient ID'] )) ) == 0"
   ]
  },
  {
   "cell_type": "code",
   "execution_count": null,
   "metadata": {},
   "outputs": [],
   "source": [
    "age_median"
   ]
  },
  {
   "cell_type": "code",
   "execution_count": 17,
   "metadata": {},
   "outputs": [
    {
     "data": {
      "text/plain": [
       "(46092, 44703)"
      ]
     },
     "execution_count": 17,
     "metadata": {},
     "output_type": "execute_result"
    }
   ],
   "source": [
    "len(df_train_val_young), len(df_train_val_old)"
   ]
  },
  {
   "cell_type": "code",
   "execution_count": 103,
   "metadata": {},
   "outputs": [
    {
     "data": {
      "text/plain": [
       "<Axes: title={'center': 'Label distribution CXP Young'}>"
      ]
     },
     "execution_count": 103,
     "metadata": {},
     "output_type": "execute_result"
    },
    {
     "data": {
      "image/png": "[encoded data removed]",
      "text/plain": [
       "<Figure size 640x480 with 1 Axes>"
      ]
     },
     "metadata": {},
     "output_type": "display_data"
    }
   ],
   "source": [
    "# plot the label distribution for the two sets\n",
    "label_distribution_young = df_train_val_young[common_diseases].sum()\n",
    "label_distribution_old = df_train_val_old[common_diseases].sum()\n",
    "# plot as a horizontal bar chart, sorted\n",
    "label_distribution_young.sort_values().plot(kind=\"barh\", title=\"Label distribution CXP Young\")"
   ]
  },
  {
   "cell_type": "code",
   "execution_count": 104,
   "metadata": {},
   "outputs": [
    {
     "data": {
      "text/plain": [
       "<Axes: title={'center': 'Label distribution CXP Old'}>"
      ]
     },
     "execution_count": 104,
     "metadata": {},
     "output_type": "execute_result"
    },
    {
     "data": {
      "image/png": "[encoded data removed]",
      "text/plain": [
       "<Figure size 640x480 with 1 Axes>"
      ]
     },
     "metadata": {},
     "output_type": "display_data"
    }
   ],
   "source": [
    "label_distribution_old.sort_values().plot(kind=\"barh\", title=\"Label distribution CXP Old\")"
   ]
  },
  {
   "cell_type": "code",
   "execution_count": 115,
   "metadata": {},
   "outputs": [],
   "source": [
    "# split each training set to training and validation\n",
    "# find the number of unique patients\n",
    "patients_young = df_train_val_young['Patient ID'].unique()\n",
    "patients_old = df_train_val_old['Patient ID'].unique()\n",
    "# shuffle the patients\n",
    "np.random.seed(44)\n",
    "np.random.shuffle(patients_young)\n",
    "np.random.shuffle(patients_old)\n",
    "# check how many images the first 8k patients have\n",
    "len(df_train_val_young[df_train_val_young['Patient ID'].isin(patients_young[:7489])]), len(df_train_val_old[df_train_val_old['Patient ID'].isin(patients_old[:7264])])\n",
    "\n",
    "# save the first 7489 patients to as the validation set\n",
    "df_val_young = df_train_val_young[df_train_val_young['Patient ID'].isin(patients_young[:7489])]\n",
    "df_train_young = df_train_val_young[~df_train_val_young['Patient ID'].isin(patients_young[:7489])]\n",
    "# save the first 7264 patients to as the validation set\n",
    "df_val_old = df_train_val_old[df_train_val_old['Patient ID'].isin(patients_old[:7264])]\n",
    "df_train_old = df_train_val_old[~df_train_val_old['Patient ID'].isin(patients_old[:7264])]\n",
    "# save the training and validation files\n",
    "df_train_young.to_csv(\"cxp_train_young.csv\", index=False)\n",
    "df_val_young.to_csv(\"cxp_val_young.csv\", index=False)\n",
    "df_train_old.to_csv(\"cxp_train_old.csv\", index=False)\n",
    "df_val_old.to_csv(\"cxp_val_old.csv\", index=False)"
   ]
  },
  {
   "cell_type": "code",
   "execution_count": 116,
   "metadata": {},
   "outputs": [
    {
     "data": {
      "text/plain": [
       "(31092, 15000, 29703, 15000)"
      ]
     },
     "execution_count": 116,
     "metadata": {},
     "output_type": "execute_result"
    }
   ],
   "source": [
    "len(df_train_young), len(df_val_young), len(df_train_old), len(df_val_old)"
   ]
  },
  {
   "cell_type": "code",
   "execution_count": 19,
   "metadata": {},
   "outputs": [
    {
     "data": {
      "text/plain": [
       "(62.0, 63.0)"
      ]
     },
     "execution_count": 19,
     "metadata": {},
     "output_type": "execute_result"
    }
   ],
   "source": [
    "# Now we want to split the cxp test set into young and old\n",
    "# use the original dataframe to add the age column to the test set\n",
    "df_original = pd.read_csv('train.csv', usecols=['Path', 'Age'])\n",
    "\n",
    "# process the path column to remove the first part of the path and keep only the filename\n",
    "df_original['Path'] = df_original['Path'].str.replace(\"CheXpert-v1.0/train/\", \"\").str.replace(\"/\", \"_\")\n",
    "# use the original dataframe to add the age column to the training and validation set\n",
    "df_test = pd.read_csv(\"cxp_test.csv\")\n",
    "df_test = df_test.merge(df_original, on=\"Path\")\n",
    "\n",
    "age_median_test = df_test['Age'].median()\n",
    "age_median_traival = 63.0\n",
    "age_median_test, age_median_traival\n",
    " \n"
   ]
  },
  {
   "cell_type": "code",
   "execution_count": 23,
   "metadata": {},
   "outputs": [
    {
     "data": {
      "text/plain": [
       "(7797, 7203)"
      ]
     },
     "execution_count": 23,
     "metadata": {},
     "output_type": "execute_result"
    }
   ],
   "source": [
    "df_test_young = df_test[df_test['Age'] < age_median_traival]\n",
    "df_test_old = df_test[df_test['Age'] >= age_median_traival]\n",
    "# if there are common patients between the two sets\n",
    "# put all their rows in the traianing set\n",
    "common_patients = set(df_test_young['Patient ID']).intersection(set(df_test_old['Patient ID']))\n",
    "# move the rows of the common patients to the young set\n",
    "df_test_young = pd.concat([\n",
    "    df_test_young,\n",
    "    df_test_old[df_test_old['Patient ID'].isin(common_patients)]\n",
    "    ],\n",
    "    ignore_index=True\n",
    ")\n",
    "# remove the rows of the common patients from the old set\n",
    "df_test_old = df_test_old[~df_test_old['Patient ID'].isin(common_patients)]\n",
    "# check the number of common patients\n",
    "assert len(set(df_test_young['Patient ID']).intersection(set(df_test_old['Patient ID'] )) ) == 0\n",
    "len(df_test_young), len(df_test_old)"
   ]
  },
  {
   "cell_type": "code",
   "execution_count": null,
   "metadata": {},
   "outputs": [],
   "source": [
    "# save the test sets\n",
    "df_test_young.to_csv(\"cxp_test_young.csv\", index=False)\n",
    "df_test_old.to_csv(\"cxp_test_old.csv\", index=False)"
   ]
  },
  {
   "cell_type": "code",
   "execution_count": 3,
   "metadata": {},
   "outputs": [],
   "source": [
    "df_test_young= pd.read_csv(\"cxp_test_young.csv\")\n",
    "df_test_old = pd.read_csv(\"cxp_test_old.csv\")\n",
    "# drop the age and save\n",
    "df_test_young.drop(columns=[\"Age\"], inplace=True)\n",
    "df_test_old.drop(columns=[\"Age\"], inplace=True)\n",
    "df_test_young.to_csv(\"cxp_test_young.csv\", index=False)\n",
    "df_test_old.to_csv(\"cxp_test_old.csv\", index=False)"
   ]
  }
 ],
 "metadata": {
  "kernelspec": {
   "display_name": "flare",
   "language": "python",
   "name": "python3"
  },
  "language_info": {
   "codemirror_mode": {
    "name": "ipython",
    "version": 3
   },
   "file_extension": ".py",
   "mimetype": "text/x-python",
   "name": "python",
   "nbconvert_exporter": "python",
   "pygments_lexer": "ipython3",
   "version": "3.8.18"
  }
 },
 "nbformat": 4,
 "nbformat_minor": 2
}
